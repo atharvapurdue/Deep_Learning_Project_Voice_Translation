{
 "cells": [
  {
   "cell_type": "markdown",
   "metadata": {},
   "source": [
    "# Using Whisper To Translate German\n",
    "\n",
    "This notebook will demontrate how to translate a snippet of speech in German to English and then to Hindi! First we need to install Whisper, gradio, and pydub, which will allow us to do translation and handle video/subtitle tasks. "
   ]
  },
  {
   "cell_type": "code",
   "execution_count": null,
   "metadata": {},
   "outputs": [],
   "source": [
    "\n",
    "#!pip install git+https://github.com/openai/whisper.git -q\n",
    "#!pip install gradio -q\n",
    "#!pip install pydub"
   ]
  },
  {
   "cell_type": "code",
   "execution_count": null,
   "metadata": {},
   "outputs": [],
   "source": [
    "#importing all the required libraries\n",
    "import gradio as gr \n",
    "import os\n",
    "import sys\n",
    "import subprocess"
   ]
  },
  {
   "cell_type": "code",
   "execution_count": null,
   "metadata": {},
   "outputs": [],
   "source": [
    "import whisper\n",
    "\n",
    "model = whisper.load_model(\"small\")"
   ]
  }
 ],
 "metadata": {
  "kernelspec": {
   "display_name": "Python 3.8.12 ('pytorch_env')",
   "language": "python",
   "name": "python3"
  },
  "language_info": {
   "name": "python",
   "version": "3.8.12"
  },
  "orig_nbformat": 4,
  "vscode": {
   "interpreter": {
    "hash": "eaf8a76fcf7bbf33ba6d6927d03fa1d3de7688d5ff436c81a557f8862b77dc55"
   }
  }
 },
 "nbformat": 4,
 "nbformat_minor": 2
}
