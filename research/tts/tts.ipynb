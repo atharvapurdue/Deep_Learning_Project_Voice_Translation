{
 "cells": [
  {
   "cell_type": "code",
   "execution_count": 19,
   "metadata": {},
   "outputs": [],
   "source": [
    "# Considered using MaryTTS, Mimic etc... but these libraries are not coded in python making the setup for them to be integrated into the project a bit complex.\n",
    "# Hence trying out pyttsx3. As is evident from the size of this notebook, the setup and usage of this library seems to be very easy.\n",
    "# Supports multiple TTS engines, including Sapi5, nsss, and espeak.\n",
    "# the following cell contains a string of the text generated in the whisper demo"
   ]
  },
  {
   "cell_type": "code",
   "execution_count": 20,
   "metadata": {},
   "outputs": [],
   "source": [
    "text = \"you are walking in a car on the road in the evening and suddenly another car comes in front of you. You think that your car will crash, so you quickly turn the steering wheel and your car gets out of control. What should be done in such a situation? First of all, do not panic. Stay calm and keep your mind cool. Because the more calm you are, the easier you will be able to deal with the situation. The thing to keep in mind is that in a car crash situation, you get injured only when your car decelerates suddenly. If you run into something, so to avoid this, press your brakes as soon as possible and keep the brakes pressed. It is important to control the steering wheel as well because if the car has more speed and you turn the steering wheel quickly, the car can turn. Do not turn the steering wheel more than necessary. Try to take the car if there is grass or a field nearby. In a car crash, the airbag often comes out for your safety. Ensure that there is an airbag in your car and it is not off. Secondly, sufficient space is required for the airbag to come out. So sit in the back of your seat. If you keep your face closer to the steering wheel, then the danger is more. There will be no space for the airbag and then it will be very dangerous. After the third crash, see how many injuries you have suffered. If you are seriously injured, then do not try to move. Wait for an emergency. Call and get an emergency. And if there is no serious injury or if there is no major car accident, then take the car to a safe place. Turn off the ignition and remove the key so that the risk of a fire is lessened.\""
   ]
  },
  {
   "cell_type": "code",
   "execution_count": 21,
   "metadata": {},
   "outputs": [
    {
     "name": "stdout",
     "output_type": "stream",
     "text": [
      "Requirement already satisfied: pyttsx3 in c:\\programdata\\anaconda3\\lib\\site-packages (2.90)\n",
      "Requirement already satisfied: pywin32; platform_system == \"Windows\" in c:\\programdata\\anaconda3\\lib\\site-packages (from pyttsx3) (223)\n",
      "Requirement already satisfied: pypiwin32; platform_system == \"Windows\" in c:\\programdata\\anaconda3\\lib\\site-packages (from pyttsx3) (223)\n",
      "Requirement already satisfied: comtypes; platform_system == \"Windows\" in c:\\programdata\\anaconda3\\lib\\site-packages (from pyttsx3) (1.1.7)\n",
      "Note: you may need to restart the kernel to use updated packages.\n"
     ]
    }
   ],
   "source": [
    "pip install pyttsx3"
   ]
  },
  {
   "cell_type": "code",
   "execution_count": 22,
   "metadata": {},
   "outputs": [],
   "source": [
    "import pyttsx3\n",
    "engine = pyttsx3.init()"
   ]
  },
  {
   "cell_type": "code",
   "execution_count": 38,
   "metadata": {},
   "outputs": [
    {
     "name": "stdout",
     "output_type": "stream",
     "text": [
      "200\n"
     ]
    }
   ],
   "source": [
    "#Following is the Various Functionalities that are available in the github readme:\n",
    "#Ref : https://github.com/nateshmbhat/pyttsx3\n",
    "\n",
    "\"\"\" RATE\"\"\"\n",
    "rate = engine.getProperty('rate')   # getting details of current speaking rate\n",
    "print (rate)                        #printing current voice rate\n",
    "engine.setProperty('rate', 200)     # setting up new voice rate"
   ]
  },
  {
   "cell_type": "code",
   "execution_count": 39,
   "metadata": {},
   "outputs": [
    {
     "name": "stdout",
     "output_type": "stream",
     "text": [
      "1.0\n"
     ]
    }
   ],
   "source": [
    "\"\"\"VOLUME\"\"\"\n",
    "volume = engine.getProperty('volume')   #getting to know current volume level (min=0 and max=1)\n",
    "print (volume)                          #printing current volume level\n",
    "engine.setProperty('volume',1.0)    # setting up volume level  between 0 and 1"
   ]
  },
  {
   "cell_type": "code",
   "execution_count": 40,
   "metadata": {},
   "outputs": [],
   "source": [
    "\"\"\"VOICE\"\"\"\n",
    "voices = engine.getProperty('voices')       #getting details of current voice\n",
    "#engine.setProperty('voice', voices[0].id)  #changing index, changes voices. o for male\n",
    "engine.setProperty('voice', voices[1].id)   #changing index, changes voices. 1 for female"
   ]
  },
  {
   "cell_type": "code",
   "execution_count": 41,
   "metadata": {},
   "outputs": [],
   "source": [
    "engine.say(\"Hello World!\")\n",
    "engine.say('My current speaking rate is ' + str(rate))\n",
    "engine.runAndWait()\n",
    "engine.stop()"
   ]
  },
  {
   "cell_type": "code",
   "execution_count": null,
   "metadata": {},
   "outputs": [],
   "source": [
    "engine.say(text)\n",
    "engine.runAndWait()"
   ]
  },
  {
   "cell_type": "code",
   "execution_count": 42,
   "metadata": {},
   "outputs": [],
   "source": [
    "engine.save_to_file(text, 'test.mp3')\n",
    "engine.runAndWait()"
   ]
  }
 ],
 "metadata": {
  "kernelspec": {
   "display_name": "Python 3",
   "language": "python",
   "name": "python3"
  },
  "language_info": {
   "codemirror_mode": {
    "name": "ipython",
    "version": 3
   },
   "file_extension": ".py",
   "mimetype": "text/x-python",
   "name": "python",
   "nbconvert_exporter": "python",
   "pygments_lexer": "ipython3",
   "version": "3.7.4"
  }
 },
 "nbformat": 4,
 "nbformat_minor": 2
}
